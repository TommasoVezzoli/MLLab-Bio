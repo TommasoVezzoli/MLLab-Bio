{
 "cells": [
  {
   "cell_type": "markdown",
   "metadata": {},
   "source": [
    "# Dataset creation for both binary and multiclass TCGA classification\n",
    "This notebook creates the dataset necessary to perform the classification tasks"
   ]
  },
  {
   "cell_type": "code",
   "execution_count": 1,
   "metadata": {},
   "outputs": [
    {
     "name": "stderr",
     "output_type": "stream",
     "text": [
      "/Users/filippofocaccia/anaconda3/lib/python3.11/site-packages/pandas/core/arrays/masked.py:60: UserWarning: Pandas requires version '1.3.6' or newer of 'bottleneck' (version '1.3.5' currently installed).\n",
      "  from pandas.core import (\n"
     ]
    }
   ],
   "source": [
    "import pandas as pd\n",
    "import os"
   ]
  },
  {
   "cell_type": "markdown",
   "metadata": {},
   "source": [
    "### Function to load the txt files"
   ]
  },
  {
   "cell_type": "code",
   "execution_count": 2,
   "metadata": {},
   "outputs": [],
   "source": [
    "def read_txt_to_df(file_path):\n",
    "    \"\"\"\n",
    "    Reads a text file and converts it into a pandas DataFrame.\n",
    "    \n",
    "    Args:\n",
    "        file_path (str): Path to the text file.\n",
    "    \n",
    "    Returns:\n",
    "        pd.DataFrame: DataFrame containing the data from the text file.\n",
    "    \"\"\"\n",
    "    with open(file_path, 'r') as f:\n",
    "        lines = f.readlines()\n",
    "\n",
    "    # Extract header\n",
    "    header = lines[0].strip().split('\\t')\n",
    "    \n",
    "    # Extract data\n",
    "    data = [line.strip().split('\\t') for line in lines[1:]]\n",
    "    \n",
    "    # Create DataFrame\n",
    "    df = pd.DataFrame(data, columns=header)\n",
    "    \n",
    "    return df"
   ]
  },
  {
   "cell_type": "code",
   "execution_count": 3,
   "metadata": {},
   "outputs": [],
   "source": [
    "mutations_folder_path='/Users/filippofocaccia/Desktop/MLLab-Bio/mutations'\n",
    "mrna_folder_path='/Users/filippofocaccia/Desktop/MLLab-Bio/mrna'\n",
    "mrna_bladder=read_txt_to_df(os.path.join(mrna_folder_path,'data_mrna_seq_v2_rsem_bladder.txt'))\n",
    "mrna_breast=read_txt_to_df(os.path.join(mrna_folder_path,'data_mrna_seq_v2_rsem_breast.txt'))\n",
    "mrna_ovarian=read_txt_to_df(os.path.join(mrna_folder_path,'data_mrna_seq_v2_rsem_ovarian.txt'))\n",
    "mrna_stomach=read_txt_to_df(os.path.join(mrna_folder_path,'data_mrna_seq_v2_rsem_stomach.txt'))\n",
    "mrna_head_neck=read_txt_to_df(os.path.join(mrna_folder_path,'data_mrna_seq_v2_rsem_head_neck.txt'))\n",
    "mrna_brain=read_txt_to_df(os.path.join(mrna_folder_path,'data_mrna_seq_v2_rsem_brain.txt'))\n",
    "mutations_bladder=read_txt_to_df(os.path.join(mutations_folder_path,'data_mutations_bladder.txt'))\n",
    "mutations_breast=read_txt_to_df(os.path.join(mutations_folder_path,'data_mutations_breast.txt'))\n",
    "mutations_ovarian=read_txt_to_df(os.path.join(mutations_folder_path,'data_mutations_ovarian.txt'))\n",
    "mutations_stomach=read_txt_to_df(os.path.join(mutations_folder_path,'data_mutations_stomach.txt'))\n",
    "mutations_head_neck=read_txt_to_df(os.path.join(mutations_folder_path,'data_mutations_head_neck.txt'))\n",
    "mutations_brain=read_txt_to_df(os.path.join(mutations_folder_path,'data_mutations_brain.txt'))\n"
   ]
  },
  {
   "cell_type": "markdown",
   "metadata": {},
   "source": [
    "### The datasets all have different columns therefore let's consider only the ones we care about"
   ]
  },
  {
   "cell_type": "code",
   "execution_count": 117,
   "metadata": {},
   "outputs": [],
   "source": [
    "mutations_bladder= mutations_bladder[['Hugo_Symbol','Variant_Type','Tumor_Sample_Barcode','Variant_Classification']]\n",
    "mutations_brain= mutations_brain[['Hugo_Symbol','Variant_Type','Tumor_Sample_Barcode','Variant_Classification']]\n",
    "mutations_stomach= mutations_stomach[['Hugo_Symbol','Variant_Type','Tumor_Sample_Barcode','Variant_Classification']]\n",
    "mutations_breast= mutations_breast[['Hugo_Symbol','Variant_Type','Tumor_Sample_Barcode','Variant_Classification']]\n",
    "mutations_ovarian= mutations_ovarian[['Hugo_Symbol','Variant_Type','Tumor_Sample_Barcode','Variant_Classification']]\n",
    "mutations_head_neck= mutations_head_neck[['Hugo_Symbol','Variant_Type','Tumor_Sample_Barcode','Variant_Classification']]"
   ]
  },
  {
   "cell_type": "markdown",
   "metadata": {},
   "source": [
    "### Let's create some auxiliary functions to process mutations and mrnas, let's also delete duplicate patients from the mutations' datasets"
   ]
  },
  {
   "cell_type": "code",
   "execution_count": 118,
   "metadata": {},
   "outputs": [],
   "source": [
    "def process_mutations(mutations_df):\n",
    "\n",
    "    processed_rows = []\n",
    "    #we create the binary column\n",
    "    mutations_df['is_tp53'] = mutations_df['Hugo_Symbol'].apply(lambda x: 1 if x == 'TP53' else 0)\n",
    "\n",
    "    #each patient has a unique Tumor_Sample_Barcode however in each original dataset we have multiple rows for each patient\n",
    "    #we need to keep only one row for each patient and if the patient has TP53 mutations we need to keep only one of them\n",
    "    #if the patient has more than one TP53 mutation we keep only one of them\n",
    "    #if the patient has no TP53 mutations we keep the first row\n",
    "    \n",
    "    unique_patients = list(mutations_df['Tumor_Sample_Barcode'].unique())\n",
    "    for patient in unique_patients:\n",
    "        patient_genes = mutations_df.loc[mutations_df['Tumor_Sample_Barcode'] == patient]\n",
    "        if 'TP53' in patient_genes['Hugo_Symbol'].values:\n",
    "            patient_genes = patient_genes.loc[patient_genes['Hugo_Symbol'] == 'TP53']\n",
    "            if len(patient_genes) > 1:\n",
    "                patient_genes = patient_genes.iloc[0:1]\n",
    "        else:\n",
    "            # keep the first row and drop the rest\n",
    "            patient_genes = patient_genes.iloc[0:1]\n",
    "        processed_rows.append(patient_genes)\n",
    "    \n",
    "    processed_df = pd.concat(processed_rows, ignore_index=True)\n",
    "    return processed_df"
   ]
  },
  {
   "cell_type": "code",
   "execution_count": 119,
   "metadata": {},
   "outputs": [],
   "source": [
    "# Check for duplicates in each mutations dataset\n",
    "datasets = [mutations_bladder, mutations_breast, mutations_ovarian, mutations_stomach, mutations_head_neck, mutations_brain]\n",
    "for i, dataset in enumerate(datasets, start=1):\n",
    "    if dataset['Tumor_Sample_Barcode'].duplicated().any():\n",
    "        mutations_bladder = mutations_bladder.drop_duplicates('Tumor_Sample_Barcode')"
   ]
  },
  {
   "cell_type": "code",
   "execution_count": 120,
   "metadata": {},
   "outputs": [],
   "source": [
    "def process_mrna(df):\n",
    "    \" This function processes the mRNA data by removing a useless column and \"\n",
    "    \"transposing the DataFrame to have genes as columns and patients as rows. \"\n",
    "    \"This allows for merge with the mutations data and standardization\"\n",
    "    \n",
    "    df.drop(columns=['Entrez_Gene_Id'])\n",
    "    df = df.transpose()\n",
    "    df.columns = df.iloc[0]\n",
    "    df = df[1:]\n",
    "    df = df.reset_index()\n",
    "    df = df.rename(columns={'index': 'Tumor_Sample_Barcode'})\n",
    "    return df"
   ]
  },
  {
   "cell_type": "code",
   "execution_count": 121,
   "metadata": {},
   "outputs": [],
   "source": [
    "def concatenate(df1, df2):\n",
    "    \"This function concatenates two DataFrames, ensuring they have the same columns and \"\n",
    "    \"the Tumor_Sample_Barcode column is preserved.\"\n",
    "\n",
    "    # Ensure both DataFrames have the same columns\n",
    "    df1_tumor_sample= df1['Tumor_Sample_Barcode']\n",
    "    df2_tumor_sample= df2['Tumor_Sample_Barcode']\n",
    "\n",
    "    common_columns = set(df1.columns).intersection(set(df2.columns))\n",
    "    common_columns = list(common_columns) \n",
    "\n",
    "    df1 = df1[common_columns]\n",
    "    df2 = df2[common_columns]\n",
    "\n",
    "    df1['Tumor_Sample_Barcode']= df1_tumor_sample\n",
    "    df2['Tumor_Sample_Barcode']= df2_tumor_sample\n",
    "    \n",
    "    # Concatenate the DataFrames\n",
    "    concatenated_df = pd.concat([df1, df2], axis=0, ignore_index=True)\n",
    "    return concatenated_df"
   ]
  },
  {
   "cell_type": "markdown",
   "metadata": {},
   "source": [
    "### We can finally create the whole dataset containing all cancer data for each patient and the mutations"
   ]
  },
  {
   "cell_type": "code",
   "execution_count": 122,
   "metadata": {},
   "outputs": [
    {
     "name": "stderr",
     "output_type": "stream",
     "text": [
      "/var/folders/9d/sqxp5kj56832p1mf59mk01gc0000gn/T/ipykernel_3572/642970181.py:15: SettingWithCopyWarning: \n",
      "A value is trying to be set on a copy of a slice from a DataFrame.\n",
      "Try using .loc[row_indexer,col_indexer] = value instead\n",
      "\n",
      "See the caveats in the documentation: https://pandas.pydata.org/pandas-docs/stable/user_guide/indexing.html#returning-a-view-versus-a-copy\n",
      "  df1['Tumor_Sample_Barcode']= df1_tumor_sample\n",
      "/var/folders/9d/sqxp5kj56832p1mf59mk01gc0000gn/T/ipykernel_3572/642970181.py:16: SettingWithCopyWarning: \n",
      "A value is trying to be set on a copy of a slice from a DataFrame.\n",
      "Try using .loc[row_indexer,col_indexer] = value instead\n",
      "\n",
      "See the caveats in the documentation: https://pandas.pydata.org/pandas-docs/stable/user_guide/indexing.html#returning-a-view-versus-a-copy\n",
      "  df2['Tumor_Sample_Barcode']= df2_tumor_sample\n",
      "/var/folders/9d/sqxp5kj56832p1mf59mk01gc0000gn/T/ipykernel_3572/642970181.py:15: SettingWithCopyWarning: \n",
      "A value is trying to be set on a copy of a slice from a DataFrame.\n",
      "Try using .loc[row_indexer,col_indexer] = value instead\n",
      "\n",
      "See the caveats in the documentation: https://pandas.pydata.org/pandas-docs/stable/user_guide/indexing.html#returning-a-view-versus-a-copy\n",
      "  df1['Tumor_Sample_Barcode']= df1_tumor_sample\n",
      "/var/folders/9d/sqxp5kj56832p1mf59mk01gc0000gn/T/ipykernel_3572/642970181.py:16: SettingWithCopyWarning: \n",
      "A value is trying to be set on a copy of a slice from a DataFrame.\n",
      "Try using .loc[row_indexer,col_indexer] = value instead\n",
      "\n",
      "See the caveats in the documentation: https://pandas.pydata.org/pandas-docs/stable/user_guide/indexing.html#returning-a-view-versus-a-copy\n",
      "  df2['Tumor_Sample_Barcode']= df2_tumor_sample\n",
      "/var/folders/9d/sqxp5kj56832p1mf59mk01gc0000gn/T/ipykernel_3572/642970181.py:15: SettingWithCopyWarning: \n",
      "A value is trying to be set on a copy of a slice from a DataFrame.\n",
      "Try using .loc[row_indexer,col_indexer] = value instead\n",
      "\n",
      "See the caveats in the documentation: https://pandas.pydata.org/pandas-docs/stable/user_guide/indexing.html#returning-a-view-versus-a-copy\n",
      "  df1['Tumor_Sample_Barcode']= df1_tumor_sample\n",
      "/var/folders/9d/sqxp5kj56832p1mf59mk01gc0000gn/T/ipykernel_3572/642970181.py:16: SettingWithCopyWarning: \n",
      "A value is trying to be set on a copy of a slice from a DataFrame.\n",
      "Try using .loc[row_indexer,col_indexer] = value instead\n",
      "\n",
      "See the caveats in the documentation: https://pandas.pydata.org/pandas-docs/stable/user_guide/indexing.html#returning-a-view-versus-a-copy\n",
      "  df2['Tumor_Sample_Barcode']= df2_tumor_sample\n",
      "/var/folders/9d/sqxp5kj56832p1mf59mk01gc0000gn/T/ipykernel_3572/642970181.py:15: SettingWithCopyWarning: \n",
      "A value is trying to be set on a copy of a slice from a DataFrame.\n",
      "Try using .loc[row_indexer,col_indexer] = value instead\n",
      "\n",
      "See the caveats in the documentation: https://pandas.pydata.org/pandas-docs/stable/user_guide/indexing.html#returning-a-view-versus-a-copy\n",
      "  df1['Tumor_Sample_Barcode']= df1_tumor_sample\n",
      "/var/folders/9d/sqxp5kj56832p1mf59mk01gc0000gn/T/ipykernel_3572/642970181.py:16: SettingWithCopyWarning: \n",
      "A value is trying to be set on a copy of a slice from a DataFrame.\n",
      "Try using .loc[row_indexer,col_indexer] = value instead\n",
      "\n",
      "See the caveats in the documentation: https://pandas.pydata.org/pandas-docs/stable/user_guide/indexing.html#returning-a-view-versus-a-copy\n",
      "  df2['Tumor_Sample_Barcode']= df2_tumor_sample\n"
     ]
    }
   ],
   "source": [
    "mutations = [mutations_bladder, mutations_breast, mutations_ovarian, mutations_stomach, mutations_head_neck, mutations_brain]\n",
    "mrna = [mrna_bladder, mrna_breast, mrna_ovarian, mrna_stomach, mrna_head_neck, mrna_brain]\n",
    "\n",
    "# Initialize the final concatenated dataset\n",
    "final_conc = None\n",
    "\n",
    "for i in range(len(mutations)):\n",
    "    if i == 0:\n",
    "        mutation_processed_1 = process_mutations(mutations[i])\n",
    "        mrna_processed_1 = process_mrna(mrna[i])\n",
    "        combined = pd.merge(mutation_processed_1, mrna_processed_1, on='Tumor_Sample_Barcode', how='inner')\n",
    "        mutation_processed_2 = process_mutations(mutations[i+1])\n",
    "        mrna_processed_2 = process_mrna(mrna[i+1])\n",
    "        combined2= pd.merge(mutation_processed_2, mrna_processed_2, on='Tumor_Sample_Barcode', how='inner')\n",
    "        first_concat= concatenate(combined, combined2)\n",
    "    else:\n",
    "        mutation_processed = process_mutations(mutations[i])\n",
    "        mrna_processed = process_mrna(mrna[i])\n",
    "        combined3 = pd.merge(mutation_processed, mrna_processed, on='Tumor_Sample_Barcode', how='inner')\n",
    "        concat= concatenate(first_concat, combined3)\n",
    "    "
   ]
  },
  {
   "cell_type": "code",
   "execution_count": 123,
   "metadata": {},
   "outputs": [],
   "source": [
    "concat.to_csv('data/final_dataset_TCGA.csv', index=False)"
   ]
  }
 ],
 "metadata": {
  "kernelspec": {
   "display_name": "base",
   "language": "python",
   "name": "python3"
  },
  "language_info": {
   "codemirror_mode": {
    "name": "ipython",
    "version": 3
   },
   "file_extension": ".py",
   "mimetype": "text/x-python",
   "name": "python",
   "nbconvert_exporter": "python",
   "pygments_lexer": "ipython3",
   "version": "3.11.5"
  }
 },
 "nbformat": 4,
 "nbformat_minor": 2
}
