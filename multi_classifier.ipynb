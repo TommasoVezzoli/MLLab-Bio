{
 "cells": [
  {
   "cell_type": "code",
   "execution_count": 49,
   "id": "7376213b",
   "metadata": {},
   "outputs": [],
   "source": [
    "import pandas as pd\n",
    "import numpy as np\n",
    "import os\n",
    "#import what is needed for pca\n",
    "from sklearn.decomposition import PCA\n",
    "from sklearn.preprocessing import StandardScaler\n",
    "import matplotlib.pyplot as plt\n",
    "import seaborn as sns\n",
    "from imblearn.over_sampling import SMOTE\n",
    "from sklearn.model_selection import train_test_split\n",
    "from sklearn.linear_model import LogisticRegression\n",
    "from sklearn.metrics import confusion_matrix, classification_report, roc_auc_score, roc_curve\n",
    "from sklearn.ensemble import RandomForestClassifier"
   ]
  },
  {
   "cell_type": "markdown",
   "id": "8f15d0e1",
   "metadata": {},
   "source": [
    "### Dataset manipulation"
   ]
  },
  {
   "cell_type": "code",
   "execution_count": 50,
   "id": "37e9c423",
   "metadata": {},
   "outputs": [
    {
     "name": "stderr",
     "output_type": "stream",
     "text": [
      "C:\\Users\\tommy\\AppData\\Local\\Temp\\ipykernel_35584\\3768806862.py:1: DtypeWarning: Columns (22,50,56,57,58,59,61) have mixed types. Specify dtype option on import or set low_memory=False.\n",
      "  mutations  = pd.read_csv('data/OmicsSomaticMutations.csv')\n"
     ]
    }
   ],
   "source": [
    "mutations  = pd.read_csv('data/OmicsSomaticMutations.csv')\n",
    "#filter by column Hugo_symbol == 'TP53'\n",
    "mutations = mutations[mutations['HugoSymbol'] == 'TP53']"
   ]
  },
  {
   "cell_type": "code",
   "execution_count": 51,
   "id": "76dca998",
   "metadata": {},
   "outputs": [],
   "source": [
    "model = pd.read_csv('data/Model.csv')\n",
    "expression = pd.read_csv('data/OmicsExpressionProteinCodingGenesTPMLogp1.csv')"
   ]
  },
  {
   "cell_type": "code",
   "execution_count": 52,
   "id": "342f3317",
   "metadata": {},
   "outputs": [],
   "source": [
    "#rename the first column of expression to 'ModelID'\n",
    "expression.rename(columns={expression.columns[0]: 'ModelID'}, inplace=True)"
   ]
  },
  {
   "cell_type": "code",
   "execution_count": 53,
   "id": "2f8befdb",
   "metadata": {},
   "outputs": [
    {
     "name": "stdout",
     "output_type": "stream",
     "text": [
      "{0: 'SNV', 1: 'deletion', 2: 'insertion', 3: 'substitution'}\n"
     ]
    }
   ],
   "source": [
    "mutations['VariantType'] = mutations['VariantType'].astype('category')\n",
    "# Convert the 'VariantType' column to categorical\n",
    "category_mapping = dict(enumerate(mutations['VariantType'].cat.categories))\n",
    "print(category_mapping)\n",
    "mutations['VariantType'] = mutations['VariantType'].cat.codes"
   ]
  },
  {
   "cell_type": "code",
   "execution_count": 54,
   "id": "4ef7157e",
   "metadata": {},
   "outputs": [],
   "source": [
    "merged = pd.merge(expression, mutations[['ModelID', 'HugoSymbol', 'VariantType']], on='ModelID', how='left')\n",
    "merged['VariantType'] = merged['VariantType'].fillna(4)\n",
    "#change the type of the 'VariantType' column to int\n",
    "merged['VariantType'] = merged['VariantType'].astype(int)"
   ]
  },
  {
   "cell_type": "code",
   "execution_count": 55,
   "id": "e638356b",
   "metadata": {},
   "outputs": [
    {
     "data": {
      "text/plain": [
       "Mutated\n",
       "1    1108\n",
       "0     687\n",
       "Name: count, dtype: int64"
      ]
     },
     "execution_count": 55,
     "metadata": {},
     "output_type": "execute_result"
    }
   ],
   "source": [
    "# create a boolean column 'Mutated' which is 1 if 'HugoSymbol' is not null and 0 if it is null\n",
    "merged['Mutated'] = np.where(merged['HugoSymbol'].isnull(), 0, 1) \n",
    "#count number of mutated and non mutated samples\n",
    "merged['Mutated'].value_counts()"
   ]
  },
  {
   "cell_type": "code",
   "execution_count": 56,
   "id": "1211400a",
   "metadata": {},
   "outputs": [
    {
     "name": "stdout",
     "output_type": "stream",
     "text": [
      "VariantType\n",
      "0    932\n",
      "4    687\n",
      "1    125\n",
      "2     33\n",
      "3     18\n",
      "Name: count, dtype: int64\n"
     ]
    }
   ],
   "source": [
    "# Check how many samples are in each category\n",
    "print(merged['VariantType'].value_counts())"
   ]
  },
  {
   "cell_type": "markdown",
   "id": "ee688fc6",
   "metadata": {},
   "source": [
    "### PCA Analysis v1 (scale before)"
   ]
  },
  {
   "cell_type": "code",
   "execution_count": 57,
   "id": "0d9e38a7",
   "metadata": {},
   "outputs": [],
   "source": [
    "#run pca on the merged dataframe\n",
    "#drop the columns 'ModelID', 'HugoSymbol', 'Mutated'\n",
    "pca = PCA(n_components=128)\n",
    "#drop the columns 'ModelID', 'HugoSymbol', 'Mutated'\n",
    "pca_input = merged.drop(columns=['ModelID', 'HugoSymbol', 'Mutated'])\n",
    "#standardize the data\n",
    "scaler = StandardScaler()\n",
    "pca_input = scaler.fit_transform(pca_input)\n",
    "#fit the pca model\n",
    "pca.fit(pca_input)\n",
    "#transform the data\n",
    "pca_result = pca.transform(pca_input)\n",
    "#convert to dataframe\n",
    "pca_result = pd.DataFrame(data=pca_result, columns=[f'PC{i+1}' for i in range(pca_result.shape[1])])\n",
    "#add the column 'Mutated' to the pca_result dataframe\n",
    "pca_result['Mutated'] = merged['Mutated'].values\n",
    "#add the column 'ModelID' to the pca_result \n",
    "pca_result['ModelID'] = merged['ModelID'].values\n",
    "#add the column 'VariantType' to the pca_result\n",
    "pca_result['VariantType'] = merged['VariantType'].values"
   ]
  },
  {
   "cell_type": "markdown",
   "id": "5f5b306c",
   "metadata": {},
   "source": [
    "### PCA Analysis v2 (scale after)"
   ]
  },
  {
   "cell_type": "code",
   "execution_count": 58,
   "id": "ba73aa2c",
   "metadata": {},
   "outputs": [],
   "source": [
    "#run pca on the merged dataframe\n",
    "#drop the columns 'ModelID', 'HugoSymbol', 'Mutated'\n",
    "pca = PCA(n_components=128)\n",
    "#drop the columns 'ModelID', 'HugoSymbol', 'Mutated'\n",
    "pca_input = merged.drop(columns=['ModelID', 'HugoSymbol', 'Mutated'])\n",
    "#fit the pca model\n",
    "pca.fit(pca_input)\n",
    "#transform the data\n",
    "pca_result = pca.transform(pca_input)\n",
    "#standardize the data\n",
    "scaler = StandardScaler()\n",
    "pca_result = scaler.fit_transform(pca_result)\n",
    "#convert to dataframe\n",
    "pca_result = pd.DataFrame(data=pca_result, columns=[f'PC{i+1}' for i in range(pca_result.shape[1])])\n",
    "#add the column 'Mutated' to the pca_result dataframe\n",
    "pca_result['Mutated'] = merged['Mutated'].values\n",
    "#add the column 'ModelID' to the pca_result \n",
    "pca_result['ModelID'] = merged['ModelID'].values\n",
    "#add the column 'VariantType' to the pca_result\n",
    "pca_result['VariantType'] = merged['VariantType'].values"
   ]
  },
  {
   "cell_type": "markdown",
   "id": "17838e08",
   "metadata": {},
   "source": [
    "### Model 1: Random Forest"
   ]
  },
  {
   "cell_type": "code",
   "execution_count": 59,
   "id": "1dde0a69",
   "metadata": {},
   "outputs": [
    {
     "name": "stdout",
     "output_type": "stream",
     "text": [
      "              precision    recall  f1-score   support\n",
      "\n",
      "           0       0.78      0.78      0.78       194\n",
      "           1       0.95      0.94      0.95       171\n",
      "           2       0.99      1.00      0.99       176\n",
      "           3       0.99      1.00      1.00       193\n",
      "           4       0.80      0.80      0.80       191\n",
      "\n",
      "    accuracy                           0.90       925\n",
      "   macro avg       0.90      0.90      0.90       925\n",
      "weighted avg       0.90      0.90      0.90       925\n",
      "\n"
     ]
    },
    {
     "data": {
      "image/png": "[encoded data removed]",
      "text/plain": [
       "<Figure size 1000x700 with 2 Axes>"
      ]
     },
     "metadata": {},
     "output_type": "display_data"
    }
   ],
   "source": [
    "#perform a multiclass classification using the pca_result dataframe for the variation type\n",
    "#drop the columns 'ModelID', 'HugoSymbol', 'Mutated'\n",
    "X = pca_result.drop(columns=['ModelID', 'Mutated', 'VariantType'])\n",
    "y = pca_result['VariantType']\n",
    "# #perform upsampling using smote\n",
    "# smote = SMOTE(random_state=42, sampling_strategy='auto')\n",
    "# X, y = smote.fit_resample(X, y)\n",
    "from imblearn.over_sampling import ADASYN\n",
    "adasyn = ADASYN(random_state=42)\n",
    "X, y = adasyn.fit_resample(X, y)\n",
    "#split the data into train and test sets\n",
    "X_train, X_test, y_train, y_test = train_test_split(X, y, test_size=0.2, random_state=42)\n",
    "#fit the model\n",
    "rf = RandomForestClassifier(n_estimators=100, random_state=42)\n",
    "rf.fit(X_train, y_train)\n",
    "#predict the test set\n",
    "y_pred = rf.predict(X_test)\n",
    "#predict the probabilities of the test set\n",
    "y_pred_proba = rf.predict_proba(X_test)\n",
    "report = classification_report(y_test, y_pred)\n",
    "print(report)\n",
    "cm = confusion_matrix(y_test, y_pred)\n",
    "#plot the confusion matrix\n",
    "plt.figure(figsize=(10, 7))\n",
    "sns.heatmap(cm, annot=True, fmt='d', cmap='Blues', xticklabels=category_mapping.values(), yticklabels=category_mapping.values())\n",
    "plt.xlabel('Predicted')\n",
    "plt.ylabel('True')\n",
    "plt.title('Confusion Matrix')\n",
    "plt.show()"
   ]
  },
  {
   "cell_type": "markdown",
   "id": "a82b17e4",
   "metadata": {},
   "source": [
    "### Multiclassification only on mutated observations"
   ]
  },
  {
   "cell_type": "code",
   "execution_count": 61,
   "id": "01e77e84",
   "metadata": {},
   "outputs": [],
   "source": [
    "mut = merged[merged['Mutated'] == 1]\n"
   ]
  },
  {
   "cell_type": "code",
   "execution_count": 62,
   "id": "1add601a",
   "metadata": {},
   "outputs": [],
   "source": [
    "#run pca on the merged dataframe\n",
    "#drop the columns 'ModelID', 'HugoSymbol', 'Mutated'\n",
    "pca = PCA(n_components=128)\n",
    "#drop the columns 'ModelID', 'HugoSymbol', 'Mutated'\n",
    "pca_input = mut.drop(columns=['ModelID', 'HugoSymbol', 'Mutated'])\n",
    "#standardize the data\n",
    "scaler = StandardScaler()\n",
    "pca_input = scaler.fit_transform(pca_input)\n",
    "#fit the pca model\n",
    "pca.fit(pca_input)\n",
    "#transform the data\n",
    "pca_result = pca.transform(pca_input)\n",
    "#convert to dataframe\n",
    "pca_result = pd.DataFrame(data=pca_result, columns=[f'PC{i+1}' for i in range(pca_result.shape[1])])\n",
    "#add the column 'Mutated' to the pca_result dataframe\n",
    "pca_result['Mutated'] = mut['Mutated'].values\n",
    "#add the column 'ModelID' to the pca_result \n",
    "pca_result['ModelID'] = mut['ModelID'].values\n",
    "#add the column 'VariantType' to the pca_result\n",
    "pca_result['VariantType'] = mut['VariantType'].values"
   ]
  },
  {
   "cell_type": "code",
   "execution_count": 63,
   "id": "1beffea9",
   "metadata": {},
   "outputs": [
    {
     "name": "stdout",
     "output_type": "stream",
     "text": [
      "              precision    recall  f1-score   support\n",
      "\n",
      "           0       0.98      0.95      0.96       210\n",
      "           1       0.95      0.97      0.96       175\n",
      "           2       0.99      1.00      1.00       175\n",
      "           3       0.99      0.99      0.99       181\n",
      "\n",
      "    accuracy                           0.98       741\n",
      "   macro avg       0.98      0.98      0.98       741\n",
      "weighted avg       0.98      0.98      0.98       741\n",
      "\n"
     ]
    },
    {
     "data": {
      "image/png": "[encoded data removed]",
      "text/plain": [
       "<Figure size 1000x700 with 2 Axes>"
      ]
     },
     "metadata": {},
     "output_type": "display_data"
    }
   ],
   "source": [
    "#perform a multiclass classification using the pca_result dataframe for the variation type\n",
    "#drop the columns 'ModelID', 'HugoSymbol', 'Mutated'\n",
    "X = pca_result.drop(columns=['ModelID', 'Mutated', 'VariantType'])\n",
    "y = pca_result['VariantType']\n",
    "# #perform upsampling using smote\n",
    "# smote = SMOTE(random_state=42, sampling_strategy='auto')\n",
    "# X, y = smote.fit_resample(X, y)\n",
    "from imblearn.over_sampling import ADASYN\n",
    "adasyn = ADASYN(random_state=42)\n",
    "X, y = adasyn.fit_resample(X, y)\n",
    "#split the data into train and test sets\n",
    "X_train, X_test, y_train, y_test = train_test_split(X, y, test_size=0.2, random_state=42)\n",
    "#fit the model\n",
    "rf = RandomForestClassifier(n_estimators=100, random_state=42)\n",
    "rf.fit(X_train, y_train)\n",
    "#predict the test set\n",
    "y_pred = rf.predict(X_test)\n",
    "#predict the probabilities of the test set\n",
    "y_pred_proba = rf.predict_proba(X_test)\n",
    "report = classification_report(y_test, y_pred)\n",
    "print(report)\n",
    "cm = confusion_matrix(y_test, y_pred)\n",
    "#plot the confusion matrix\n",
    "plt.figure(figsize=(10, 7))\n",
    "sns.heatmap(cm, annot=True, fmt='d', cmap='Blues', xticklabels=category_mapping.values(), yticklabels=category_mapping.values())\n",
    "plt.xlabel('Predicted')\n",
    "plt.ylabel('True')\n",
    "plt.title('Confusion Matrix')\n",
    "plt.show()"
   ]
  }
 ],
 "metadata": {
  "kernelspec": {
   "display_name": "myenv",
   "language": "python",
   "name": "python3"
  },
  "language_info": {
   "codemirror_mode": {
    "name": "ipython",
    "version": 3
   },
   "file_extension": ".py",
   "mimetype": "text/x-python",
   "name": "python",
   "nbconvert_exporter": "python",
   "pygments_lexer": "ipython3",
   "version": "3.12.9"
  }
 },
 "nbformat": 4,
 "nbformat_minor": 5
}
