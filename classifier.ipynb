{
 "cells": [
  {
   "cell_type": "code",
   "execution_count": null,
   "id": "7376213b",
   "metadata": {},
   "outputs": [],
   "source": [
    "import pandas as pd\n",
    "import numpy as np\n",
    "import os\n",
    "#import what is needed for pca\n",
    "from sklearn.decomposition import PCA\n",
    "from sklearn.preprocessing import StandardScaler\n",
    "import matplotlib.pyplot as plt\n",
    "import seaborn as sns\n",
    "from sklearn.model_selection import train_test_split\n",
    "from sklearn.linear_model import LogisticRegression\n",
    "from sklearn.metrics import confusion_matrix, classification_report, roc_auc_score, roc_curve"
   ]
  },
  {
   "cell_type": "code",
   "execution_count": null,
   "id": "37e9c423",
   "metadata": {},
   "outputs": [],
   "source": [
    "mutations  = pd.read_csv('data/OmicsSomaticMutations.csv')\n",
    "#filter by column Hugo_symbol == 'TP53'\n",
    "mutations = mutations[mutations['HugoSymbol'] == 'TP53']"
   ]
  },
  {
   "cell_type": "code",
   "execution_count": null,
   "id": "76dca998",
   "metadata": {},
   "outputs": [],
   "source": [
    "model = pd.read_csv('data/Model.csv')\n",
    "expression = pd.read_csv('data/OmicsExpressionProteinCodingGenesTPMLogp1.csv')"
   ]
  },
  {
   "cell_type": "code",
   "execution_count": null,
   "id": "342f3317",
   "metadata": {},
   "outputs": [],
   "source": [
    "#rename the first column of expression to 'ModelID'\n",
    "expression.rename(columns={expression.columns[0]: 'ModelID'}, inplace=True)"
   ]
  },
  {
   "cell_type": "code",
   "execution_count": null,
   "id": "4ef7157e",
   "metadata": {},
   "outputs": [],
   "source": [
    "merged = pd.merge(expression, mutations[['ModelID', 'HugoSymbol']], on='ModelID', how='left')"
   ]
  },
  {
   "cell_type": "code",
   "execution_count": null,
   "id": "e638356b",
   "metadata": {},
   "outputs": [],
   "source": [
    "# create a boolean column 'Mutated' which is 1 if 'HugoSymbol' is not null and 0 if it is null\n",
    "merged['Mutated'] = np.where(merged['HugoSymbol'].isnull(), 0, 1) "
   ]
  },
  {
   "cell_type": "code",
   "execution_count": null,
   "id": "f3d18efa",
   "metadata": {},
   "outputs": [],
   "source": [
    "#count number of mutated and non mutated samples\n",
    "merged['Mutated'].value_counts()"
   ]
  },
  {
   "cell_type": "code",
   "execution_count": null,
   "id": "0d9e38a7",
   "metadata": {},
   "outputs": [],
   "source": [
    "#run pca on the merged dataframe\n",
    "#drop the columns 'ModelID', 'HugoSymbol', 'Mutated'\n",
    "pca = PCA(n_components=128)\n",
    "#drop the columns 'ModelID', 'HugoSymbol', 'Mutated'\n",
    "pca_input = merged.drop(columns=['ModelID', 'HugoSymbol', 'Mutated'])\n",
    "#standardize the data\n",
    "scaler = StandardScaler()\n",
    "pca_input = scaler.fit_transform(pca_input)\n",
    "#fit the pca model\n",
    "pca.fit(pca_input)\n",
    "#transform the data\n",
    "pca_result = pca.transform(pca_input)\n",
    "#convert to dataframe\n",
    "pca_result = pd.DataFrame(data=pca_result, columns=[f'PC{i+1}' for i in range(pca_result.shape[1])])\n",
    "#add the column 'Mutated' to the pca_result dataframe\n",
    "pca_result['Mutated'] = merged['Mutated'].values\n",
    "#add the column 'ModelID' to the pca_result \n",
    "pca_result['ModelID'] = merged['ModelID'].values"
   ]
  },
  {
   "cell_type": "code",
   "execution_count": null,
   "id": "8cc1e3ef",
   "metadata": {},
   "outputs": [],
   "source": [
    "# build a model to predict the mutation status based on the PCA components\n",
    "\n",
    "#split the data into train and test sets\n",
    "X = pca_result.drop(columns=['Mutated', 'ModelID'])\n",
    "y = pca_result['Mutated']\n",
    "X_train, X_test, y_train, y_test = train_test_split(X, y, test_size=0.2)\n",
    "#fit the model\n",
    "model = LogisticRegression(max_iter=1000)\n",
    "model.fit(X_train, y_train)\n",
    "#predict the test set\n",
    "y_pred = model.predict(X_test)\n",
    "#predict the probabilities\n",
    "y_pred_proba = model.predict_proba(X_test)[:, 1]\n"
   ]
  },
  {
   "cell_type": "code",
   "execution_count": null,
   "id": "9d71b909",
   "metadata": {},
   "outputs": [],
   "source": [
    "#calculate the confusion matrix\n",
    "cm = confusion_matrix(y_test, y_pred)\n",
    "#calculate the classification report\n",
    "report = classification_report(y_test, y_pred)\n",
    "#calculate the roc_auc score\n",
    "roc_auc = roc_auc_score(y_test, y_pred_proba)\n",
    "# show the table\n",
    "print(\"Confusion Matrix:\")\n",
    "print(cm)\n",
    "print(\"Classification Report:\")\n",
    "print(report)\n",
    "print(\"ROC AUC Score:\")\n",
    "print(roc_auc)\n"
   ]
  },
  {
   "cell_type": "code",
   "execution_count": null,
   "id": "ba73aa2c",
   "metadata": {},
   "outputs": [],
   "source": [
    "#run pca on the merged dataframe\n",
    "#drop the columns 'ModelID', 'HugoSymbol', 'Mutated'\n",
    "pca = PCA(n_components=128)\n",
    "#drop the columns 'ModelID', 'HugoSymbol', 'Mutated'\n",
    "pca_input = merged.drop(columns=['ModelID', 'HugoSymbol', 'Mutated'])\n",
    "#fit the pca model\n",
    "pca.fit(pca_input)\n",
    "#transform the data\n",
    "pca_result = pca.transform(pca_input)\n",
    "#standardize the data\n",
    "scaler = StandardScaler()\n",
    "pca_result = scaler.fit_transform(pca_result)\n",
    "#convert to dataframe\n",
    "pca_result = pd.DataFrame(data=pca_result, columns=[f'PC{i+1}' for i in range(pca_result.shape[1])])\n",
    "#add the column 'Mutated' to the pca_result dataframe\n",
    "pca_result['Mutated'] = merged['Mutated'].values\n",
    "#add the column 'ModelID' to the pca_result \n",
    "pca_result['ModelID'] = merged['ModelID'].values"
   ]
  },
  {
   "cell_type": "code",
   "execution_count": null,
   "id": "85f701ca",
   "metadata": {},
   "outputs": [],
   "source": [
    "# build a model to predict the mutation status based on the PCA components\n",
    "\n",
    "#split the data into train and test sets\n",
    "X = pca_result.drop(columns=['Mutated', 'ModelID'])\n",
    "y = pca_result['Mutated']\n",
    "X_train, X_test, y_train, y_test = train_test_split(X, y, test_size=0.2)\n",
    "#fit the model\n",
    "model = LogisticRegression(max_iter=1000)\n",
    "model.fit(X_train, y_train)\n",
    "#predict the test set\n",
    "y_pred = model.predict(X_test)\n",
    "#predict the probabilities\n",
    "y_pred_proba = model.predict_proba(X_test)[:, 1]\n"
   ]
  },
  {
   "cell_type": "code",
   "execution_count": null,
   "id": "330822ae",
   "metadata": {},
   "outputs": [],
   "source": [
    "#calculate the confusion matrix\n",
    "cm = confusion_matrix(y_test, y_pred)\n",
    "#calculate the classification report\n",
    "report = classification_report(y_test, y_pred)\n",
    "#calculate the roc_auc score\n",
    "roc_auc = roc_auc_score(y_test, y_pred_proba)\n",
    "# show the table\n",
    "print(\"Confusion Matrix:\")\n",
    "print(cm)\n",
    "print(\"Classification Report:\")\n",
    "print(report)\n",
    "print(\"ROC AUC Score:\")\n",
    "print(roc_auc)\n"
   ]
  }
 ],
 "metadata": {
  "kernelspec": {
   "display_name": "myenv",
   "language": "python",
   "name": "python3"
  },
  "language_info": {
   "name": "python",
   "version": "3.12.9"
  }
 },
 "nbformat": 4,
 "nbformat_minor": 5
}
