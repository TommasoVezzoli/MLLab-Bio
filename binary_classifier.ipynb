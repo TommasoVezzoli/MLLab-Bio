{
 "cells": [
  {
   "cell_type": "code",
   "execution_count": 39,
   "id": "7376213b",
   "metadata": {},
   "outputs": [],
   "source": [
    "import pandas as pd\n",
    "import numpy as np\n",
    "import os\n",
    "#import what is needed for pca\n",
    "from sklearn.decomposition import PCA\n",
    "from sklearn.preprocessing import StandardScaler\n",
    "from sklearn.pipeline import Pipeline\n",
    "import matplotlib.pyplot as plt\n",
    "import seaborn as sns\n",
    "from sklearn.model_selection import train_test_split\n",
    "from sklearn.linear_model import LogisticRegression\n",
    "from sklearn.metrics import confusion_matrix, classification_report, roc_auc_score, roc_curve\n",
    "from sklearn.ensemble import RandomForestClassifier\n",
    "from sklearn.model_selection import cross_val_score, StratifiedKFold\n",
    "from sklearn.model_selection import learning_curve"
   ]
  },
  {
   "cell_type": "markdown",
   "id": "8f15d0e1",
   "metadata": {},
   "source": [
    "### Dataset manipulation"
   ]
  },
  {
   "cell_type": "code",
   "execution_count": 40,
   "id": "37e9c423",
   "metadata": {},
   "outputs": [
    {
     "name": "stderr",
     "output_type": "stream",
     "text": [
      "C:\\Users\\tommy\\AppData\\Local\\Temp\\ipykernel_22676\\3768806862.py:1: DtypeWarning: Columns (22,50,56,57,58,59,61) have mixed types. Specify dtype option on import or set low_memory=False.\n",
      "  mutations  = pd.read_csv('data/OmicsSomaticMutations.csv')\n"
     ]
    }
   ],
   "source": [
    "mutations  = pd.read_csv('data/OmicsSomaticMutations.csv')\n",
    "#filter by column Hugo_symbol == 'TP53'\n",
    "mutations = mutations[mutations['HugoSymbol'] == 'TP53']"
   ]
  },
  {
   "cell_type": "code",
   "execution_count": 41,
   "id": "76dca998",
   "metadata": {},
   "outputs": [],
   "source": [
    "model = pd.read_csv('data/Model.csv')\n",
    "expression = pd.read_csv('data/OmicsExpressionProteinCodingGenesTPMLogp1.csv')"
   ]
  },
  {
   "cell_type": "code",
   "execution_count": 42,
   "id": "342f3317",
   "metadata": {},
   "outputs": [],
   "source": [
    "#rename the first column of expression to 'ModelID'\n",
    "expression.rename(columns={expression.columns[0]: 'ModelID'}, inplace=True)"
   ]
  },
  {
   "cell_type": "code",
   "execution_count": 43,
   "id": "4ef7157e",
   "metadata": {},
   "outputs": [],
   "source": [
    "merged = pd.merge(expression, mutations[['ModelID', 'HugoSymbol']], on='ModelID', how='left')"
   ]
  },
  {
   "cell_type": "code",
   "execution_count": 44,
   "id": "e638356b",
   "metadata": {},
   "outputs": [],
   "source": [
    "# create a boolean column 'Mutated' which is 1 if 'HugoSymbol' is not null and 0 if it is null\n",
    "merged['Mutated'] = np.where(merged['HugoSymbol'].isnull(), 0, 1) "
   ]
  },
  {
   "cell_type": "code",
   "execution_count": 45,
   "id": "f3d18efa",
   "metadata": {},
   "outputs": [
    {
     "data": {
      "text/plain": [
       "Mutated\n",
       "1    1108\n",
       "0     687\n",
       "Name: count, dtype: int64"
      ]
     },
     "execution_count": 45,
     "metadata": {},
     "output_type": "execute_result"
    }
   ],
   "source": [
    "#count number of mutated and non mutated samples\n",
    "merged['Mutated'].value_counts()"
   ]
  },
  {
   "cell_type": "markdown",
   "id": "ee688fc6",
   "metadata": {},
   "source": [
    "### PCA Analysis v1 (scale before)"
   ]
  },
  {
   "cell_type": "code",
   "execution_count": 46,
   "id": "0d9e38a7",
   "metadata": {},
   "outputs": [],
   "source": [
    "#run pca on the merged dataframe\n",
    "#drop the columns 'ModelID', 'HugoSymbol', 'Mutated'\n",
    "pca = PCA(n_components=128)\n",
    "#drop the columns 'ModelID', 'HugoSymbol', 'Mutated'\n",
    "pca_input = merged.drop(columns=['ModelID', 'HugoSymbol', 'Mutated'])\n",
    "#standardize the data\n",
    "scaler = StandardScaler()\n",
    "pca_input = scaler.fit_transform(pca_input)\n",
    "#fit the pca model\n",
    "pca.fit(pca_input)\n",
    "#transform the data\n",
    "pca_result = pca.transform(pca_input)\n",
    "#convert to dataframe\n",
    "pca_result = pd.DataFrame(data=pca_result, columns=[f'PC{i+1}' for i in range(pca_result.shape[1])])\n",
    "#add the column 'Mutated' to the pca_result dataframe\n",
    "pca_result['Mutated'] = merged['Mutated'].values\n",
    "#add the column 'ModelID' to the pca_result \n",
    "pca_result['ModelID'] = merged['ModelID'].values"
   ]
  },
  {
   "cell_type": "markdown",
   "id": "5f5b306c",
   "metadata": {},
   "source": [
    "### PCA Analysis v2 (scale after)"
   ]
  },
  {
   "cell_type": "code",
   "execution_count": 47,
   "id": "ba73aa2c",
   "metadata": {},
   "outputs": [],
   "source": [
    "# #run pca on the merged dataframe\n",
    "# #drop the columns 'ModelID', 'HugoSymbol', 'Mutated'\n",
    "# pca = PCA(n_components=128)\n",
    "# #drop the columns 'ModelID', 'HugoSymbol', 'Mutated'\n",
    "# pca_input = merged.drop(columns=['ModelID', 'HugoSymbol', 'Mutated'])\n",
    "# #fit the pca model\n",
    "# pca.fit(pca_input)\n",
    "# #transform the data\n",
    "# pca_result = pca.transform(pca_input)\n",
    "# #standardize the data\n",
    "# scaler = StandardScaler()\n",
    "# pca_result = scaler.fit_transform(pca_result)\n",
    "# #convert to dataframe\n",
    "# pca_result = pd.DataFrame(data=pca_result, columns=[f'PC{i+1}' for i in range(pca_result.shape[1])])\n",
    "# #add the column 'Mutated' to the pca_result dataframe\n",
    "# pca_result['Mutated'] = merged['Mutated'].values\n",
    "# #add the column 'ModelID' to the pca_result \n",
    "# pca_result['ModelID'] = merged['ModelID'].values"
   ]
  },
  {
   "cell_type": "markdown",
   "id": "95f3532d",
   "metadata": {},
   "source": [
    "### Data for modelling"
   ]
  },
  {
   "cell_type": "code",
   "execution_count": 48,
   "id": "954b127a",
   "metadata": {},
   "outputs": [],
   "source": [
    "#split the data into train and test sets\n",
    "X = pca_result.drop(columns=['Mutated', 'ModelID'])\n",
    "y = pca_result['Mutated']\n",
    "X_train, X_test, y_train, y_test = train_test_split(X, y, test_size=0.2)"
   ]
  },
  {
   "cell_type": "markdown",
   "id": "d919063a",
   "metadata": {},
   "source": [
    "### Cross Validation"
   ]
  },
  {
   "cell_type": "code",
   "execution_count": 49,
   "id": "9b630e6c",
   "metadata": {},
   "outputs": [
    {
     "name": "stdout",
     "output_type": "stream",
     "text": [
      "Logistic Regression - Mean ROC AUC: 0.8916 (±0.0248)\n",
      "Random Forest - Mean ROC AUC: 0.8654 (±0.0154)\n"
     ]
    }
   ],
   "source": [
    "# Setup stratified k-fold cross validation (preserves class distribution)\n",
    "cv = StratifiedKFold(n_splits=5, shuffle=True)\n",
    "\n",
    "# Define models to evaluate\n",
    "models = {\n",
    "    'Logistic Regression': LogisticRegression(max_iter=1000),\n",
    "    'Random Forest': RandomForestClassifier(n_estimators=100)\n",
    "}\n",
    "\n",
    "# Perform cross-validation for each model\n",
    "for name, model in models.items():\n",
    "    scores = cross_val_score(model, X, y, cv=cv, scoring='roc_auc')\n",
    "    print(f\"{name} - Mean ROC AUC: {scores.mean():.4f} (±{scores.std():.4f})\")"
   ]
  },
  {
   "cell_type": "markdown",
   "id": "17838e08",
   "metadata": {},
   "source": [
    "### Model 1: Logistic Regression"
   ]
  },
  {
   "cell_type": "code",
   "execution_count": 50,
   "id": "8cc1e3ef",
   "metadata": {},
   "outputs": [
    {
     "name": "stdout",
     "output_type": "stream",
     "text": [
      "Confusion Matrix:\n",
      "[[104  34]\n",
      " [ 29 192]]\n",
      "Classification Report:\n",
      "              precision    recall  f1-score   support\n",
      "\n",
      "           0       0.78      0.75      0.77       138\n",
      "           1       0.85      0.87      0.86       221\n",
      "\n",
      "    accuracy                           0.82       359\n",
      "   macro avg       0.82      0.81      0.81       359\n",
      "weighted avg       0.82      0.82      0.82       359\n",
      "\n",
      "ROC AUC Score:\n",
      "0.8812709030100334\n"
     ]
    }
   ],
   "source": [
    "#fit the model\n",
    "lg_model = LogisticRegression(max_iter=1000)\n",
    "lg_model.fit(X_train, y_train)\n",
    "#predict the test set\n",
    "y_pred = lg_model.predict(X_test)\n",
    "#predict the probabilities\n",
    "y_pred_proba = lg_model.predict_proba(X_test)[:, 1]\n",
    "#calculate the confusion matrix\n",
    "cm = confusion_matrix(y_test, y_pred)\n",
    "#calculate the classification report\n",
    "report = classification_report(y_test, y_pred)\n",
    "#calculate the roc_auc score\n",
    "roc_auc = roc_auc_score(y_test, y_pred_proba)\n",
    "# show the table\n",
    "print(\"Confusion Matrix:\")\n",
    "print(cm)\n",
    "print(\"Classification Report:\")\n",
    "print(report)\n",
    "print(\"ROC AUC Score:\")\n",
    "print(roc_auc)"
   ]
  },
  {
   "cell_type": "code",
   "execution_count": 59,
   "id": "9314853c",
   "metadata": {},
   "outputs": [
    {
     "name": "stdout",
     "output_type": "stream",
     "text": [
      "Confusion Matrix:\n",
      "[[105  33]\n",
      " [ 30 191]]\n",
      "Classification Report:\n",
      "              precision    recall  f1-score   support\n",
      "\n",
      "           0       0.78      0.76      0.77       138\n",
      "           1       0.85      0.86      0.86       221\n",
      "\n",
      "    accuracy                           0.82       359\n",
      "   macro avg       0.82      0.81      0.81       359\n",
      "weighted avg       0.82      0.82      0.82       359\n",
      "\n",
      "ROC AUC Score:\n",
      "0.8853695324283559\n"
     ]
    },
    {
     "name": "stderr",
     "output_type": "stream",
     "text": [
      "c:\\Users\\tommy\\anaconda3\\envs\\myenv\\Lib\\site-packages\\sklearn\\linear_model\\_sag.py:348: ConvergenceWarning: The max_iter was reached which means the coef_ did not converge\n",
      "  warnings.warn(\n"
     ]
    }
   ],
   "source": [
    "#fit the model\n",
    "lg_model = LogisticRegression(max_iter=1000, solver='saga', penalty='l1', class_weight=None, C=0.1)\n",
    "lg_model.fit(X_train, y_train)\n",
    "#predict the test set\n",
    "y_pred = lg_model.predict(X_test)\n",
    "#predict the probabilities\n",
    "y_pred_proba = lg_model.predict_proba(X_test)[:, 1]\n",
    "#calculate the confusion matrix\n",
    "cm = confusion_matrix(y_test, y_pred)\n",
    "#calculate the classification report\n",
    "report = classification_report(y_test, y_pred)\n",
    "#calculate the roc_auc score\n",
    "roc_auc = roc_auc_score(y_test, y_pred_proba)\n",
    "# show the table\n",
    "print(\"Confusion Matrix:\")\n",
    "print(cm)\n",
    "print(\"Classification Report:\")\n",
    "print(report)\n",
    "print(\"ROC AUC Score:\")\n",
    "print(roc_auc)"
   ]
  },
  {
   "cell_type": "markdown",
   "id": "c8dbd073",
   "metadata": {},
   "source": [
    "### Model 2: Random Forest"
   ]
  },
  {
   "cell_type": "code",
   "execution_count": 51,
   "id": "4efb1bfc",
   "metadata": {},
   "outputs": [
    {
     "name": "stdout",
     "output_type": "stream",
     "text": [
      "Confusion Matrix:\n",
      "[[ 79  59]\n",
      " [ 18 203]]\n",
      "              precision    recall  f1-score   support\n",
      "\n",
      "           0       0.81      0.57      0.67       138\n",
      "           1       0.77      0.92      0.84       221\n",
      "\n",
      "    accuracy                           0.79       359\n",
      "   macro avg       0.79      0.75      0.76       359\n",
      "weighted avg       0.79      0.79      0.78       359\n",
      "\n",
      "ROC AUC Score:\n",
      "0.8810085907272608\n"
     ]
    }
   ],
   "source": [
    "#fit the model\n",
    "rf_model = RandomForestClassifier(n_estimators=200, min_samples_split=2, max_depth=10, class_weight='balanced')\n",
    "rf_model.fit(X_train, y_train)\n",
    "#predict the test set\n",
    "y_pred = rf_model.predict(X_test)\n",
    "#predict the probabilities\n",
    "y_pred_proba = rf_model.predict_proba(X_test)[:, 1]\n",
    "#calculate the confusion matrix\n",
    "cm = confusion_matrix(y_test, y_pred)\n",
    "#calculate the classification report\n",
    "report = classification_report(y_test, y_pred)\n",
    "#calculate the roc_auc score\n",
    "roc_auc = roc_auc_score(y_test, y_pred_proba)\n",
    "# show the table\n",
    "print(\"Confusion Matrix:\")\n",
    "print(cm)\n",
    "print(report)\n",
    "print(\"ROC AUC Score:\")\n",
    "print(roc_auc)\n"
   ]
  },
  {
   "cell_type": "code",
   "execution_count": 52,
   "id": "ab4a9d94",
   "metadata": {},
   "outputs": [
    {
     "data": {
      "image/png": "[encoded data removed]",
      "text/plain": [
       "<Figure size 1200x600 with 1 Axes>"
      ]
     },
     "metadata": {},
     "output_type": "display_data"
    }
   ],
   "source": [
    "# Get feature importances\n",
    "importances = rf_model.feature_importances_\n",
    "indices = np.argsort(importances)[::-1]\n",
    "\n",
    "# Plot the feature importances (top 20)\n",
    "plt.figure(figsize=(12, 6))\n",
    "plt.title('Feature Importances (Principal Components)')\n",
    "plt.bar(range(20), importances[indices[:20]], align='center')\n",
    "plt.xticks(range(20), [f'PC{i+1}' for i in indices[:20]])\n",
    "plt.xlabel('Principal Components')\n",
    "plt.ylabel('Relative Importance')\n",
    "plt.tight_layout()\n",
    "plt.show()"
   ]
  },
  {
   "cell_type": "markdown",
   "id": "53ba1c51",
   "metadata": {},
   "source": [
    "### Extra"
   ]
  },
  {
   "cell_type": "code",
   "execution_count": 53,
   "id": "e261bfc7",
   "metadata": {},
   "outputs": [],
   "source": [
    "# def plot_learning_curve(estimator, X, y, cv=None, n_jobs=None, train_sizes=np.linspace(.1, 1.0, 5)):\n",
    "#     train_sizes, train_scores, test_scores = learning_curve(\n",
    "#         estimator, X, y, cv=cv, n_jobs=n_jobs, train_sizes=train_sizes, scoring='roc_auc')\n",
    "    \n",
    "#     train_scores_mean = np.mean(train_scores, axis=1)\n",
    "#     train_scores_std = np.std(train_scores, axis=1)\n",
    "#     test_scores_mean = np.mean(test_scores, axis=1)\n",
    "#     test_scores_std = np.std(test_scores, axis=1)\n",
    "    \n",
    "#     plt.figure(figsize=(10, 6))\n",
    "#     plt.title(\"Learning Curve\")\n",
    "#     plt.xlabel(\"Training examples\")\n",
    "#     plt.ylabel(\"ROC AUC Score\")\n",
    "#     plt.grid()\n",
    "    \n",
    "#     plt.fill_between(train_sizes, train_scores_mean - train_scores_std,\n",
    "#                      train_scores_mean + train_scores_std, alpha=0.1, color=\"r\")\n",
    "#     plt.fill_between(train_sizes, test_scores_mean - test_scores_std,\n",
    "#                      test_scores_mean + test_scores_std, alpha=0.1, color=\"g\")\n",
    "#     plt.plot(train_sizes, train_scores_mean, 'o-', color=\"r\", label=\"Training score\")\n",
    "#     plt.plot(train_sizes, test_scores_mean, 'o-', color=\"g\", label=\"Cross-validation score\")\n",
    "    \n",
    "#     plt.legend(loc=\"best\")\n",
    "#     return plt\n",
    "\n",
    "# # Create a pipeline with your model\n",
    "# model = RandomForestClassifier(n_estimators=100)\n",
    "\n",
    "# # Plot learning curve\n",
    "# plot_learning_curve(model, X, y, \n",
    "#                    cv=StratifiedKFold(n_splits=5, shuffle=True, random_state=42))\n",
    "# plt.show()"
   ]
  },
  {
   "cell_type": "code",
   "execution_count": 54,
   "id": "2a2ee135",
   "metadata": {},
   "outputs": [],
   "source": [
    "# from sklearn.manifold import TSNE\n",
    "\n",
    "# # Get 128 principal components after scaling\n",
    "# pca = PCA(n_components=128)\n",
    "# scaler = StandardScaler()\n",
    "# X_scaled = scaler.fit_transform(merged.drop(columns=['ModelID', 'HugoSymbol', 'Mutated']))\n",
    "# X_pca = pca.fit_transform(X_scaled)\n",
    "\n",
    "# # Create DataFrame for visualization\n",
    "# pca_df = pd.DataFrame(X_pca, columns=[f'PC{i+1}' for i in range(X_pca.shape[1])])\n",
    "# pca_df['Mutated'] = merged['Mutated'].values\n",
    "\n",
    "# # Use t-SNE to reduce to 2D for visualization\n",
    "# tsne = TSNE(n_components=2, random_state=42)\n",
    "# X_tsne = tsne.fit_transform(pca_df.drop(columns=['Mutated']))\n",
    "\n",
    "# # Create DataFrame for t-SNE visualization\n",
    "# tsne_df = pd.DataFrame({\n",
    "#     'TSNE1': X_tsne[:, 0],\n",
    "#     'TSNE2': X_tsne[:, 1],\n",
    "#     'Mutated': pca_df['Mutated']\n",
    "# })\n",
    "\n",
    "# # Plot\n",
    "# plt.figure(figsize=(10, 8))\n",
    "# sns.scatterplot(data=tsne_df, x='TSNE1', y='TSNE2', hue='Mutated', palette='viridis', alpha=0.8)\n",
    "# plt.title('t-SNE Visualization of TP53 Mutation Status (128 Components)')\n",
    "# plt.xlabel('t-SNE Dimension 1')\n",
    "# plt.ylabel('t-SNE Dimension 2')\n",
    "# plt.legend(title='TP53 Mutated')\n",
    "# plt.show()"
   ]
  },
  {
   "cell_type": "code",
   "execution_count": 55,
   "id": "42cdca83",
   "metadata": {},
   "outputs": [],
   "source": [
    "# from imblearn.over_sampling import SMOTE\n",
    "# from imblearn.pipeline import Pipeline as ImbPipeline\n",
    "# from imblearn.under_sampling import RandomUnderSampler\n",
    "\n",
    "# # Using SMOTE for the binary classification\n",
    "# smote = SMOTE(random_state=42)\n",
    "# X_resampled, y_resampled = smote.fit_resample(X, y)\n",
    "\n",
    "# print(f\"Original class distribution: {pd.Series(y).value_counts().to_dict()}\")\n",
    "# print(f\"Resampled class distribution: {pd.Series(y_resampled).value_counts().to_dict()}\")\n",
    "\n",
    "# # Or create an imbalanced pipeline\n",
    "# imb_pipeline = ImbPipeline([\n",
    "#     ('scaler', StandardScaler()),\n",
    "#     ('pca', PCA(n_components=128)),\n",
    "#     ('sampling', SMOTE(random_state=42)),\n",
    "#     ('classifier', RandomForestClassifier(n_estimators=100, random_state=42))\n",
    "# ])\n",
    "\n",
    "# # Cross-validation with the imbalanced pipeline\n",
    "# cv_scores = cross_val_score(imb_pipeline, \n",
    "#                           merged.drop(columns=['ModelID', 'HugoSymbol', 'Mutated']),\n",
    "#                           merged['Mutated'], \n",
    "#                           cv=StratifiedKFold(n_splits=5, shuffle=True, random_state=42),\n",
    "#                           scoring='roc_auc')\n",
    "# print(f\"SMOTE Pipeline ROC AUC: {cv_scores.mean():.4f} (±{cv_scores.std():.4f})\")"
   ]
  },
  {
   "cell_type": "code",
   "execution_count": null,
   "id": "2c8d48da",
   "metadata": {},
   "outputs": [],
   "source": [
    "\n",
    "\n",
    "# # Reduced parameter grid for Random Forest\n",
    "# param_dist_rf = {\n",
    "#     'n_estimators': [50, 100, 200],\n",
    "#     'max_depth': [None, 10, 20],\n",
    "#     'min_samples_split': [2, 5],\n",
    "#     'class_weight': [None, 'balanced']\n",
    "# }\n",
    "\n",
    "# # For Logistic Regression - much smaller grid\n",
    "# param_dist_lr = {\n",
    "#     'C': [0.1, 1, 10],\n",
    "#     'penalty': ['l1', 'l2'],\n",
    "#     'solver': ['liblinear', 'saga'],  # These solvers support both L1 and L2\n",
    "#     'class_weight': [None, 'balanced']\n",
    "# }\n",
    "\n",
    "# # Configure RandomizedSearchCV - limit to 20 iterations\n",
    "# random_search = RandomizedSearchCV(\n",
    "#     estimator=RandomForestClassifier(random_state=42),\n",
    "#     param_distributions=param_dist_rf,\n",
    "#     n_iter=20,  # Try only 20 combinations\n",
    "#     cv=StratifiedKFold(n_splits=3, shuffle=True, random_state=42),  # Reduce to 3 folds\n",
    "#     scoring='roc_auc',\n",
    "#     n_jobs=-1,\n",
    "#     random_state=42,\n",
    "#     verbose=1  # Show progress\n",
    "# )\n",
    "\n",
    "# # Fit the model\n",
    "# random_search.fit(X, y)\n",
    "# print(f\"Best parameters: {random_search.best_params_}\")\n",
    "# print(f\"Best ROC AUC: {random_search.best_score_:.4f}\")\n",
    "\n",
    "# # Use the best model\n",
    "# best_rf = random_search.best_estimator_"
   ]
  },
  {
   "cell_type": "code",
   "execution_count": 58,
   "id": "b753d838",
   "metadata": {},
   "outputs": [
    {
     "name": "stdout",
     "output_type": "stream",
     "text": [
      "Fitting 3 folds for each of 20 candidates, totalling 60 fits\n"
     ]
    },
    {
     "name": "stderr",
     "output_type": "stream",
     "text": [
      "c:\\Users\\tommy\\anaconda3\\envs\\myenv\\Lib\\site-packages\\joblib\\externals\\loky\\process_executor.py:752: UserWarning: A worker stopped while some jobs were given to the executor. This can be caused by a too short worker timeout or by a memory leak.\n",
      "  warnings.warn(\n"
     ]
    },
    {
     "name": "stdout",
     "output_type": "stream",
     "text": [
      "Best parameters for Logistic Regression: {'solver': 'saga', 'penalty': 'l1', 'class_weight': None, 'C': 0.1}\n",
      "Best ROC AUC for Logistic Regression: 0.8803\n"
     ]
    },
    {
     "name": "stderr",
     "output_type": "stream",
     "text": [
      "c:\\Users\\tommy\\anaconda3\\envs\\myenv\\Lib\\site-packages\\sklearn\\linear_model\\_sag.py:348: ConvergenceWarning: The max_iter was reached which means the coef_ did not converge\n",
      "  warnings.warn(\n"
     ]
    }
   ],
   "source": [
    "from sklearn.model_selection import RandomizedSearchCV\n",
    "# perform hyperparameter tuning using RandomizedSearchCV for logistic regression\n",
    "param_dist_lr = {\n",
    "    'C': [0.1, 1, 10, 100],\n",
    "    'penalty': ['l1', 'l2'],\n",
    "    'solver': ['liblinear', 'saga'],  # These solvers support both L1 and L2\n",
    "    'class_weight': [None, 'balanced']\n",
    "}\n",
    "random_search_lr = RandomizedSearchCV(\n",
    "    estimator=LogisticRegression(max_iter=1000, random_state=42),\n",
    "    param_distributions=param_dist_lr,\n",
    "    n_iter=20,  # Try only 20 combinations\n",
    "    cv=StratifiedKFold(n_splits=3, shuffle=True, random_state=42),  # Reduce to 3 folds\n",
    "    scoring='roc_auc',\n",
    "    n_jobs=-1,\n",
    "    random_state=42,\n",
    "    verbose=1  # Show progress\n",
    ")\n",
    "\n",
    "# Fit the model\n",
    "random_search_lr.fit(X, y)\n",
    "print(f\"Best parameters for Logistic Regression: {random_search_lr.best_params_}\")\n",
    "print(f\"Best ROC AUC for Logistic Regression: {random_search_lr.best_score_:.4f}\")\n",
    "# Use the best model\n",
    "best_lr = random_search_lr.best_estimator_\n",
    "#predict the test set\n",
    "\n"
   ]
  },
  {
   "cell_type": "markdown",
   "id": "0245586f",
   "metadata": {},
   "source": [
    "{'solver': 'saga', 'penalty': 'l1', 'class_weight': None, 'C': 0.1}"
   ]
  },
  {
   "cell_type": "markdown",
   "id": "d3d4dcba",
   "metadata": {},
   "source": [
    "Fitting 3 folds for each of 20 candidates, totalling 60 fits\n",
    "Best parameters: {'n_estimators': 200, 'min_samples_split': 2, 'max_depth': 10, 'class_weight': 'balanced'}\n",
    "Best ROC AUC: 0.8701"
   ]
  }
 ],
 "metadata": {
  "kernelspec": {
   "display_name": "myenv",
   "language": "python",
   "name": "python3"
  },
  "language_info": {
   "codemirror_mode": {
    "name": "ipython",
    "version": 3
   },
   "file_extension": ".py",
   "mimetype": "text/x-python",
   "name": "python",
   "nbconvert_exporter": "python",
   "pygments_lexer": "ipython3",
   "version": "3.12.9"
  }
 },
 "nbformat": 4,
 "nbformat_minor": 5
}
